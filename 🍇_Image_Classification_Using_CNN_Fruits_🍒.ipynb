{
  "metadata": {
    "kernelspec": {
      "language": "python",
      "display_name": "Python 3",
      "name": "python3"
    },
    "language_info": {
      "name": "python",
      "version": "3.7.10",
      "mimetype": "text/x-python",
      "codemirror_mode": {
        "name": "ipython",
        "version": 3
      },
      "pygments_lexer": "ipython3",
      "nbconvert_exporter": "python",
      "file_extension": ".py"
    },
    "kaggle": {
      "accelerator": "none",
      "dataSources": [
        {
          "sourceId": 2609027,
          "sourceType": "datasetVersion",
          "datasetId": 5857
        }
      ],
      "dockerImageVersionId": 30096,
      "isInternetEnabled": true,
      "language": "python",
      "sourceType": "notebook",
      "isGpuEnabled": false
    },
    "colab": {
      "name": " 🍇 Image Classification Using CNN - Fruits 🍒 ",
      "provenance": [],
      "include_colab_link": true
    }
  },
  "nbformat_minor": 0,
  "nbformat": 4,
  "cells": [
    {
      "cell_type": "markdown",
      "metadata": {
        "id": "view-in-github",
        "colab_type": "text"
      },
      "source": [
        "<a href=\"https://colab.research.google.com/github/syifaariftv/202155202039_NURALSYIFA/blob/main/%F0%9F%8D%87_Image_Classification_Using_CNN_Fruits_%F0%9F%8D%92.ipynb\" target=\"_parent\"><img src=\"https://colab.research.google.com/assets/colab-badge.svg\" alt=\"Open In Colab\"/></a>"
      ]
    },
    {
      "source": [
        "\n",
        "# IMPORTANT: RUN THIS CELL IN ORDER TO IMPORT YOUR KAGGLE DATA SOURCES\n",
        "# TO THE CORRECT LOCATION (/kaggle/input) IN YOUR NOTEBOOK,\n",
        "# THEN FEEL FREE TO DELETE THIS CELL.\n",
        "# NOTE: THIS NOTEBOOK ENVIRONMENT DIFFERS FROM KAGGLE'S PYTHON\n",
        "# ENVIRONMENT SO THERE MAY BE MISSING LIBRARIES USED BY YOUR\n",
        "# NOTEBOOK.\n",
        "\n",
        "import os\n",
        "import sys\n",
        "from tempfile import NamedTemporaryFile\n",
        "from urllib.request import urlopen\n",
        "from urllib.parse import unquote, urlparse\n",
        "from urllib.error import HTTPError\n",
        "from zipfile import ZipFile\n",
        "import tarfile\n",
        "import shutil\n",
        "\n",
        "CHUNK_SIZE = 40960\n",
        "DATA_SOURCE_MAPPING = 'fruits:https%3A%2F%2Fstorage.googleapis.com%2Fkaggle-data-sets%2F5857%2F2609027%2Fbundle%2Farchive.zip%3FX-Goog-Algorithm%3DGOOG4-RSA-SHA256%26X-Goog-Credential%3Dgcp-kaggle-com%2540kaggle-161607.iam.gserviceaccount.com%252F20240502%252Fauto%252Fstorage%252Fgoog4_request%26X-Goog-Date%3D20240502T123213Z%26X-Goog-Expires%3D259200%26X-Goog-SignedHeaders%3Dhost%26X-Goog-Signature%3D69d477c68135a02ef905b54dcd4f8866f7b029ab435687d4f1e05de860ea6a0a8ed59c66be2876504f71b1ef965072d3eaf0194276a02ca09053ca985301ec68ec4226f026b0e811bf5681ade67d5bb0b2d0269c458d0acc6e31389abcec2f07d1341dc7106faf0997d48116dcd2b8d35ce38476a67154d71035d24f4c36bc95996a1a78e757fe42b9efb408774ee14ccd7833e22d26a299f2fcf454a3737682885ea63446c658b5b9a14563b8244954f18abdf475649a2c377eb33f1cd02ecd59f4ac444dcbc128a3926466899428eed3a79994552309bb83fd343acc2c622bb8a6d0cea499e5c43c2b2a00ab4d10531a7ddd7b9db8ef7c2b742fe7df4ecf14'\n",
        "\n",
        "KAGGLE_INPUT_PATH='/kaggle/input'\n",
        "KAGGLE_WORKING_PATH='/kaggle/working'\n",
        "KAGGLE_SYMLINK='kaggle'\n",
        "\n",
        "!umount /kaggle/input/ 2> /dev/null\n",
        "shutil.rmtree('/kaggle/input', ignore_errors=True)\n",
        "os.makedirs(KAGGLE_INPUT_PATH, 0o777, exist_ok=True)\n",
        "os.makedirs(KAGGLE_WORKING_PATH, 0o777, exist_ok=True)\n",
        "\n",
        "try:\n",
        "  os.symlink(KAGGLE_INPUT_PATH, os.path.join(\"..\", 'input'), target_is_directory=True)\n",
        "except FileExistsError:\n",
        "  pass\n",
        "try:\n",
        "  os.symlink(KAGGLE_WORKING_PATH, os.path.join(\"..\", 'working'), target_is_directory=True)\n",
        "except FileExistsError:\n",
        "  pass\n",
        "\n",
        "for data_source_mapping in DATA_SOURCE_MAPPING.split(','):\n",
        "    directory, download_url_encoded = data_source_mapping.split(':')\n",
        "    download_url = unquote(download_url_encoded)\n",
        "    filename = urlparse(download_url).path\n",
        "    destination_path = os.path.join(KAGGLE_INPUT_PATH, directory)\n",
        "    try:\n",
        "        with urlopen(download_url) as fileres, NamedTemporaryFile() as tfile:\n",
        "            total_length = fileres.headers['content-length']\n",
        "            print(f'Downloading {directory}, {total_length} bytes compressed')\n",
        "            dl = 0\n",
        "            data = fileres.read(CHUNK_SIZE)\n",
        "            while len(data) > 0:\n",
        "                dl += len(data)\n",
        "                tfile.write(data)\n",
        "                done = int(50 * dl / int(total_length))\n",
        "                sys.stdout.write(f\"\\r[{'=' * done}{' ' * (50-done)}] {dl} bytes downloaded\")\n",
        "                sys.stdout.flush()\n",
        "                data = fileres.read(CHUNK_SIZE)\n",
        "            if filename.endswith('.zip'):\n",
        "              with ZipFile(tfile) as zfile:\n",
        "                zfile.extractall(destination_path)\n",
        "            else:\n",
        "              with tarfile.open(tfile.name) as tarfile:\n",
        "                tarfile.extractall(destination_path)\n",
        "            print(f'\\nDownloaded and uncompressed: {directory}')\n",
        "    except HTTPError as e:\n",
        "        print(f'Failed to load (likely expired) {download_url} to path {destination_path}')\n",
        "        continue\n",
        "    except OSError as e:\n",
        "        print(f'Failed to load {download_url} to path {destination_path}')\n",
        "        continue\n",
        "\n",
        "print('Data source import complete.')\n"
      ],
      "metadata": {
        "id": "rQMvrNpEgFm8"
      },
      "cell_type": "code",
      "outputs": [],
      "execution_count": null
    },
    {
      "cell_type": "markdown",
      "source": [
        "![fruits.PNG](attachment:6bf9e625-d126-4764-ac18-713f48b086af.PNG)\n",
        "\n",
        "<center><h1 style = \"background:#0C0C0C ;color:white;border:0;font-family:Bahnschrift SemiBold;font-weight:bold\">Introduction  </h1></center>\n",
        "<p style = \"color:black;font-family:Bahnschrift SemiBold;font-weight:bold;font-size:16px\"> Data consists of many fruits.Total number of images: 90483.Training set size: 67692 images (one fruit or vegetable per image).Test set size: 22688 images (one fruit or vegetable per image).Number of classes: 131 (fruits and vegetables).Image size: 100x100 pixels.Different varieties of the same fruit (apple for instance) are stored as belonging to different classes.</p>\n",
        "\n",
        "<p style = \"color:darkred;font-family:Bahnschrift SemiBold;font-weight:bold;font-size:16px\" > What are we going to do in this notebook? </p>\n",
        "\n",
        "<p style = \"color:black;font-family:Bahnschrift SemiBold;font-weight:bold;font-size:16px\">We will first examine the fruits. we will look at it as pictures and numbers of pictures. Next, we will create our CNN model.Then we will evaluate the results of the model we created and examine them on the graph. </p>\n",
        "\n",
        "<p style = \"color:darkred;font-family:Bahnschrift SemiBold;font-weight:bold;font-size:16px\" > So, let's get started. </p>\n",
        "    \n",
        "<h2 style = \"background:#0C0C0C ;color:white;border:0;font-family:Bahnschrift SemiBold;font-weight:bold\">Content :</h2>\n",
        "\n",
        "<ul>\n",
        "    <li style = \"color:gray;font-size:16px\"> <a href = \"#1\" style = \"color:black;font-family:Bahnschrift SemiBold;font-weight:bold\"> Load and Check Data </a> </li>\n",
        "         <li style = \"color:gray;font-size:16px\" ><a href = \"#2\" style = \"color:black;font-family:Bahnschrift SemiBold;font-weight:bold\"> Modeling </a>\n",
        "       <ul>\n",
        "            <li style = \"color:black;font-size:16px\" ><a href = \"#3\" style = \"color:darkred;font-family:Bahnschrift SemiBold;font-weight:bold\"> Create Model </a></li>      \n",
        "           <li style = \"color:black;font-size:16px\" ><a href = \"#4\" style = \"color:darkred;font-family:Bahnschrift SemiBold;font-weight:bold\"> Compile Model </a></li>\n",
        "           <li style = \"color:black;font-size:16px\" ><a href = \"#5\" style = \"color:darkred;font-family:Bahnschrift SemiBold;font-weight:bold\"> Epochs and Batch Size </a></li>\n",
        "           <li style = \"color:black;font-size:16px\" ><a href = \"#6\" style = \"color:darkred;font-family:Bahnschrift SemiBold;font-weight:bold\"> Data Augmentation </a></li>\n",
        "                      <li style = \"color:black;font-size:16px\" ><a href = \"#7\" style = \"color:darkred;font-family:Bahnschrift SemiBold;font-weight:bold\"> Fit the Model </a></li>\n",
        "                      <li style = \"color:black;font-size:16px\" ><a href = \"#8\" style = \"color:darkred;font-family:Bahnschrift SemiBold;font-weight:bold\"> Evaluate the model </a>\n",
        "           <ul>\n",
        "                                       <li style = \"color:grey;font-size:16px\" ><a href = \"#9\" style = \"color:#321414;font-family:Bahnschrift SemiBold;font-weight:bold\"> Loss Chart </a></li>\n",
        "                                       <li style = \"color:grey;font-size:16px\" ><a href = \"#10\" style = \"color:#321414;font-family:Bahnschrift SemiBold;font-weight:bold\"> Accuracy Chart </a></li>\n",
        "                    </ul>                      \n",
        "           </li>\n",
        "                                 <li style = \"color:black;font-size:16px\" ><a href = \"#11\" style = \"color:darkred;font-family:Bahnschrift SemiBold;font-weight:bold\"> CONCLUSION </a></li>\n",
        "       </ul>\n",
        "    </li>\n",
        "</ul>"
      ],
      "metadata": {
        "id": "y2WZkCsQgFnG"
      }
    },
    {
      "cell_type": "markdown",
      "source": [
        "<h2 style = \"background-image:url('https://t1.pixers.pics/img-1fb6f67c/posterler-sari-meyveler-desen.jpg?H4sIAAAAAAAAA3VOW46DMAy8TpAAG0xi4AD97REQj9DNlkeUpLvVnn4TVf2s7JHtke0ZeBx-XDXM-gjawW6WZdOwmi1Ovnfamz8tpKxzzPrIbgIxduePdrM7rSgk5QkKOSHrf8d4uI_uLr5CsL4H8FRa84zfYpk9zLuHGisGZJCdopY6wkXxMtiteC0GM98LhU-JpT1uOabI3l4axLxJHoIzu4imzigXxLe9ZfBB8tVDvILLFagDblNKlajhcqWOW26lGpaVxknh1GhmqoiRkNdubLWeqqZe6zKq_ANn9tv0MQEAAA==');background-position: center;text-shadow: 12px 10px 4px #333;color:black;border:0;font-family:Palatino Linotype;font-weight:bold;font-size:25px;text-indent:10px\">Import Library</h2>"
      ],
      "metadata": {
        "id": "PmH5LdMygFnK"
      }
    },
    {
      "cell_type": "code",
      "source": [
        "# This Python 3 environment comes with many helpful analytics libraries installed\n",
        "# It is defined by the kaggle/python Docker image: https://github.com/kaggle/docker-python\n",
        "# For example, here's several helpful packages to load\n",
        "\n",
        "import numpy as np # linear algebra\n",
        "import pandas as pd # data processing, CSV file I/O (e.g. pd.read_csv)\n",
        "import seaborn as sns\n",
        "import matplotlib.pyplot as plt\n",
        "\n",
        "from glob import glob\n",
        "import cv2\n",
        "\n",
        "# import model\n",
        "from keras.preprocessing.image import ImageDataGenerator, img_to_array, load_img\n",
        "from keras.models import Sequential\n",
        "from keras.layers import Conv2D, MaxPooling2D, Activation, Dropout, Flatten, Dense\n",
        "\n",
        "#import warnings\n",
        "import warnings\n",
        "warnings.filterwarnings('ignore')\n",
        "\n",
        "# Input data files are available in the read-only \"../input/\" directory\n",
        "# For example, running this (by clicking run or pressing Shift+Enter) will list all files under the input directory\n",
        "\n",
        "# You can write up to 20GB to the current directory (/kaggle/working/) that gets preserved as output when you create a version using \"Save & Run All\"\n",
        "# You can also write temporary files to /kaggle/temp/, but they won't be saved outside of the current session"
      ],
      "metadata": {
        "_uuid": "8f2839f25d086af736a60e9eeb907d3b93b6e0e5",
        "_cell_guid": "b1076dfc-b9ad-4769-8c92-a6c4dae69d19",
        "_kg_hide-output": true,
        "execution": {
          "iopub.status.busy": "2024-02-10T08:52:46.819542Z",
          "iopub.execute_input": "2024-02-10T08:52:46.819952Z",
          "iopub.status.idle": "2024-02-10T08:52:46.828225Z",
          "shell.execute_reply.started": "2024-02-10T08:52:46.819919Z",
          "shell.execute_reply": "2024-02-10T08:52:46.826921Z"
        },
        "trusted": true,
        "id": "0A4z2vgOgFnL"
      },
      "execution_count": null,
      "outputs": []
    },
    {
      "cell_type": "markdown",
      "source": [
        "<a id = \"1\" ></a>\n",
        "<h2 style = \"background-image:url('https://t1.pixers.pics/img-1fb6f67c/posterler-sari-meyveler-desen.jpg?H4sIAAAAAAAAA3VOW46DMAy8TpAAG0xi4AD97REQj9DNlkeUpLvVnn4TVf2s7JHtke0ZeBx-XDXM-gjawW6WZdOwmi1Ovnfamz8tpKxzzPrIbgIxduePdrM7rSgk5QkKOSHrf8d4uI_uLr5CsL4H8FRa84zfYpk9zLuHGisGZJCdopY6wkXxMtiteC0GM98LhU-JpT1uOabI3l4axLxJHoIzu4imzigXxLe9ZfBB8tVDvILLFagDblNKlajhcqWOW26lGpaVxknh1GhmqoiRkNdubLWeqqZe6zKq_ANn9tv0MQEAAA==');background-position: center;text-shadow: 12px 10px 4px #333;color:black;border:0;font-family:Palatino Linotype;font-weight:bold;font-size:25px;text-indent:10px\">Load and Check Data</h2>"
      ],
      "metadata": {
        "id": "-_POFxYYgFnM"
      }
    },
    {
      "cell_type": "markdown",
      "source": [
        "<ul>\n",
        "    <li style = 'color:darkred'> <p style = 'font-weight:bold;color:black'> 🍎 File paths containing your test and training data </p> </li>\n",
        "</ul>"
      ],
      "metadata": {
        "id": "ZcvM2Z5ugFnO"
      }
    },
    {
      "cell_type": "code",
      "source": [
        "train_dir = '/kaggle/input/fruits/fruits-360_dataset/fruits-360/Training/'\n",
        "test_dir =  '/kaggle/input/fruits/fruits-360_dataset/fruits-360/Test/'"
      ],
      "metadata": {
        "execution": {
          "iopub.status.busy": "2024-02-10T08:54:10.613309Z",
          "iopub.execute_input": "2024-02-10T08:54:10.614054Z",
          "iopub.status.idle": "2024-02-10T08:54:10.618558Z",
          "shell.execute_reply.started": "2024-02-10T08:54:10.613992Z",
          "shell.execute_reply": "2024-02-10T08:54:10.617612Z"
        },
        "trusted": true,
        "id": "1KtTnmchgFnQ"
      },
      "execution_count": null,
      "outputs": []
    },
    {
      "cell_type": "markdown",
      "source": [
        "<ul>\n",
        "    <li style = 'color:red'> <p style = 'font-weight:bold;color:black'> 🍓 We make fruits more legible so that we can examine them better </p> </li>\n",
        "</ul>"
      ],
      "metadata": {
        "id": "VwbC_4NsgFnT"
      }
    },
    {
      "cell_type": "code",
      "source": [
        "import os\n",
        "\n",
        "fruits = []\n",
        "fruits_image = []\n",
        "\n",
        "for i in os.listdir(train_dir):\n",
        "    for image_filename in os.listdir(train_dir + i):\n",
        "        fruits.append(i) # name of the fruit\n",
        "        fruits_image.append(i + '/' + image_filename) # image of the fruit"
      ],
      "metadata": {
        "execution": {
          "iopub.status.busy": "2024-02-10T08:54:15.180294Z",
          "iopub.execute_input": "2024-02-10T08:54:15.181045Z",
          "iopub.status.idle": "2024-02-10T08:54:45.571685Z",
          "shell.execute_reply.started": "2024-02-10T08:54:15.180978Z",
          "shell.execute_reply": "2024-02-10T08:54:45.570236Z"
        },
        "trusted": true,
        "id": "oSkGeAA_gFnU"
      },
      "execution_count": null,
      "outputs": []
    },
    {
      "cell_type": "code",
      "source": [
        "train_fruits = pd.DataFrame(fruits, columns=[\"Fruits\"])\n",
        "train_fruits[\"Fruits Image\"] = fruits_image"
      ],
      "metadata": {
        "execution": {
          "iopub.status.busy": "2024-02-10T08:55:04.810556Z",
          "iopub.execute_input": "2024-02-10T08:55:04.811006Z",
          "iopub.status.idle": "2024-02-10T08:55:04.84899Z",
          "shell.execute_reply.started": "2024-02-10T08:55:04.810969Z",
          "shell.execute_reply": "2024-02-10T08:55:04.848153Z"
        },
        "trusted": true,
        "id": "fZo8qLimgFnV"
      },
      "execution_count": null,
      "outputs": []
    },
    {
      "cell_type": "code",
      "source": [
        "train_fruits"
      ],
      "metadata": {
        "execution": {
          "iopub.status.busy": "2024-02-10T08:55:06.990902Z",
          "iopub.execute_input": "2024-02-10T08:55:06.991356Z",
          "iopub.status.idle": "2024-02-10T08:55:07.026288Z",
          "shell.execute_reply.started": "2024-02-10T08:55:06.991321Z",
          "shell.execute_reply": "2024-02-10T08:55:07.025479Z"
        },
        "trusted": true,
        "id": "ltp6SuVhgFnW"
      },
      "execution_count": null,
      "outputs": []
    },
    {
      "cell_type": "markdown",
      "source": [
        "<ul>\n",
        "    <li style = 'color:yellow'> <p style = 'font-weight:bold;color:black'> 🍍 Let's take a look at the 15 most common fruits among these fruits. </p> </li>\n",
        "</ul>"
      ],
      "metadata": {
        "id": "F5SAhdTwgFnX"
      }
    },
    {
      "cell_type": "code",
      "source": [
        "from collections import Counter\n",
        "newData = Counter(train_fruits[\"Fruits\"])\n",
        "most_fruits = newData.most_common(15)\n",
        "\n",
        "print(\"The 15 most frequently found fruits in the data set and their number\")\n",
        "most_fruits"
      ],
      "metadata": {
        "execution": {
          "iopub.status.busy": "2024-02-10T08:55:29.808787Z",
          "iopub.execute_input": "2024-02-10T08:55:29.809432Z",
          "iopub.status.idle": "2024-02-10T08:55:29.832155Z",
          "shell.execute_reply.started": "2024-02-10T08:55:29.809372Z",
          "shell.execute_reply": "2024-02-10T08:55:29.831366Z"
        },
        "trusted": true,
        "id": "s6JPH68sgFnY"
      },
      "execution_count": null,
      "outputs": []
    },
    {
      "cell_type": "code",
      "source": [
        "x,y = zip(*most_fruits)\n",
        "x,y = list(x),list(y)"
      ],
      "metadata": {
        "execution": {
          "iopub.status.busy": "2024-02-10T08:55:48.391568Z",
          "iopub.execute_input": "2024-02-10T08:55:48.392205Z",
          "iopub.status.idle": "2024-02-10T08:55:48.397147Z",
          "shell.execute_reply.started": "2024-02-10T08:55:48.392147Z",
          "shell.execute_reply": "2024-02-10T08:55:48.396007Z"
        },
        "trusted": true,
        "id": "pqcQZF0igFnY"
      },
      "execution_count": null,
      "outputs": []
    },
    {
      "cell_type": "code",
      "source": [
        "print(\"The 15 most frequently found fruits in the dataset -- > \\n \", x)"
      ],
      "metadata": {
        "execution": {
          "iopub.status.busy": "2024-02-10T08:55:55.360127Z",
          "iopub.execute_input": "2024-02-10T08:55:55.360625Z",
          "iopub.status.idle": "2024-02-10T08:55:55.367958Z",
          "shell.execute_reply.started": "2024-02-10T08:55:55.360583Z",
          "shell.execute_reply": "2024-02-10T08:55:55.36655Z"
        },
        "trusted": true,
        "id": "NCRLJ2sygFnY"
      },
      "execution_count": null,
      "outputs": []
    },
    {
      "cell_type": "markdown",
      "source": [
        "<ul>\n",
        "    <li style = 'color:purple'> <p style = 'font-weight:bold;color:black'> 🍇 Let's see better by visualizing the top 15 most common fruits you found above. </p> </li>\n",
        "</ul>"
      ],
      "metadata": {
        "id": "XPI6ufflgFnZ"
      }
    },
    {
      "cell_type": "code",
      "source": [
        "plt.figure(figsize=(15,10))\n",
        "ax= sns.barplot(x=x, y=y, palette=sns.color_palette(\"BuGn_r\", 15))\n",
        "plt.xlabel('Fruits', size = 20)\n",
        "plt.ylabel('Number of Fruits', size = 20 )\n",
        "plt.xticks(rotation = 75)\n",
        "plt.title('The 15 most frequently found fruits in the data set and their number')\n",
        "plt.show()"
      ],
      "metadata": {
        "execution": {
          "iopub.status.busy": "2024-02-10T08:56:01.338466Z",
          "iopub.execute_input": "2024-02-10T08:56:01.339377Z",
          "iopub.status.idle": "2024-02-10T08:56:02.006458Z",
          "shell.execute_reply.started": "2024-02-10T08:56:01.339326Z",
          "shell.execute_reply": "2024-02-10T08:56:02.00338Z"
        },
        "trusted": true,
        "id": "7dUe-P_pgFnZ"
      },
      "execution_count": null,
      "outputs": []
    },
    {
      "cell_type": "markdown",
      "source": [
        "<ul>\n",
        "    <li style = 'color:green'> <p style = 'font-weight:bold;color:black'> 🥑  Let's take a look at the pictures of these fruits. </p> </li>\n",
        "</ul>"
      ],
      "metadata": {
        "id": "B67HPERogFna"
      }
    },
    {
      "cell_type": "code",
      "source": [
        "plt.figure(figsize=(25,16))\n",
        "how_many_fruits = len(x)\n",
        "\n",
        "for i in range(how_many_fruits):\n",
        "    fruits = train_fruits[train_fruits[\"Fruits\"] == x[i]][\"Fruits Image\"].values [1]\n",
        "\n",
        "    plt.subplot(3,5,i+1)\n",
        "    img = load_img(train_dir + fruits)\n",
        "    plt.imshow(img)\n",
        "    plt.title(x[i].upper(), color = \"green\", fontsize = 15 , fontweight = 600)\n",
        "    plt.axis(\"off\")\n",
        "\n",
        "plt.suptitle(\"The 15 Most Abundant Fruits\", fontsize = 25 , color = \"darkred\", fontweight = 'bold')\n",
        "plt.show()"
      ],
      "metadata": {
        "execution": {
          "iopub.status.busy": "2024-02-10T08:56:23.861527Z",
          "iopub.execute_input": "2024-02-10T08:56:23.861981Z",
          "iopub.status.idle": "2024-02-10T08:56:25.887673Z",
          "shell.execute_reply.started": "2024-02-10T08:56:23.861944Z",
          "shell.execute_reply": "2024-02-10T08:56:25.886082Z"
        },
        "trusted": true,
        "id": "H4uaADRagFna"
      },
      "execution_count": null,
      "outputs": []
    },
    {
      "cell_type": "code",
      "source": [
        "img = load_img(train_dir + \"Cantaloupe 1/r_234_100.jpg\")\n",
        "plt.imshow(img)\n",
        "plt.axis(\"off\")\n",
        "plt.show()"
      ],
      "metadata": {
        "execution": {
          "iopub.status.busy": "2024-02-10T08:56:39.529349Z",
          "iopub.execute_input": "2024-02-10T08:56:39.529878Z",
          "iopub.status.idle": "2024-02-10T08:56:39.665163Z",
          "shell.execute_reply.started": "2024-02-10T08:56:39.529823Z",
          "shell.execute_reply": "2024-02-10T08:56:39.664005Z"
        },
        "trusted": true,
        "id": "K4cDZPC6gFna"
      },
      "execution_count": null,
      "outputs": []
    },
    {
      "cell_type": "markdown",
      "source": [
        "<ul>\n",
        "    <li style = 'color:red'> <p style = 'font-weight:bold;color:black'> 🍉  Let's look at the shape of the pictures we have. </p> </li>\n",
        "    <li style = 'color:yellow'> <p style = 'font-weight:bold;color:black'> 🍐  this is important to us because this will be the input value of our model. </p> </li>\n",
        "</ul>"
      ],
      "metadata": {
        "id": "JYggCwKTgFnb"
      }
    },
    {
      "cell_type": "code",
      "source": [
        "array_image = img_to_array(img)\n",
        "print(\"Image Shape --> \", array_image.shape)"
      ],
      "metadata": {
        "execution": {
          "iopub.status.busy": "2024-02-10T08:56:44.761372Z",
          "iopub.execute_input": "2024-02-10T08:56:44.76177Z",
          "iopub.status.idle": "2024-02-10T08:56:44.76802Z",
          "shell.execute_reply.started": "2024-02-10T08:56:44.761737Z",
          "shell.execute_reply": "2024-02-10T08:56:44.76714Z"
        },
        "trusted": true,
        "id": "3hfCrs1KgFnb"
      },
      "execution_count": null,
      "outputs": []
    },
    {
      "cell_type": "markdown",
      "source": [
        "<ul>\n",
        "    <li style = 'color:gray'> <p style = 'font-weight:bold;color:black'> 🍈  And before moving on to our model, let's take a look at how many different fruits we have. </p> </li>\n",
        "    <li style = 'color:orange'> <p style = 'font-weight:bold;color:black'> 🍊  this is also important to us, because this will be the output value of our model. </p> </li>\n",
        "</ul>"
      ],
      "metadata": {
        "id": "V1SC_rYCgFnb"
      }
    },
    {
      "cell_type": "code",
      "source": [
        "fruitCountUnique = glob(train_dir + '/*' )\n",
        "numberOfClass = len(fruitCountUnique)\n",
        "print(\"How many different fruits are there  -->  \",numberOfClass)"
      ],
      "metadata": {
        "execution": {
          "iopub.status.busy": "2024-02-10T08:56:49.004529Z",
          "iopub.execute_input": "2024-02-10T08:56:49.005509Z",
          "iopub.status.idle": "2024-02-10T08:56:49.016468Z",
          "shell.execute_reply.started": "2024-02-10T08:56:49.005451Z",
          "shell.execute_reply": "2024-02-10T08:56:49.01497Z"
        },
        "trusted": true,
        "id": "WK0ZEyrKgFnb"
      },
      "execution_count": null,
      "outputs": []
    },
    {
      "cell_type": "markdown",
      "source": [
        "<a id = \"2\" ></a>\n",
        "<h2 style = \"background-image:url('https://t1.pixers.pics/img-1fb6f67c/posterler-sari-meyveler-desen.jpg?H4sIAAAAAAAAA3VOW46DMAy8TpAAG0xi4AD97REQj9DNlkeUpLvVnn4TVf2s7JHtke0ZeBx-XDXM-gjawW6WZdOwmi1Ovnfamz8tpKxzzPrIbgIxduePdrM7rSgk5QkKOSHrf8d4uI_uLr5CsL4H8FRa84zfYpk9zLuHGisGZJCdopY6wkXxMtiteC0GM98LhU-JpT1uOabI3l4axLxJHoIzu4imzigXxLe9ZfBB8tVDvILLFagDblNKlajhcqWOW26lGpaVxknh1GhmqoiRkNdubLWeqqZe6zKq_ANn9tv0MQEAAA==');background-position: center;text-shadow: 12px 10px 4px #333;color:black;border:0;font-family:Palatino Linotype;font-weight:bold;font-size:25px;text-indent:10px\">Modeling </h2>"
      ],
      "metadata": {
        "id": "1dNPFKKfgFnc"
      }
    },
    {
      "cell_type": "markdown",
      "source": [
        "<a id = \"3\" ></a>\n",
        "<ul>\n",
        "    <li style = 'color:purple;font-size:16px'> <p style = 'font-weight:bold'> 🍇 Create Model </p> </li>\n",
        "</ul>"
      ],
      "metadata": {
        "id": "0Wz8vHHqgFnc"
      }
    },
    {
      "cell_type": "code",
      "source": [
        "model = Sequential()\n",
        "model.add(Conv2D(32,(3,3),input_shape = array_image.shape))\n",
        "model.add(Activation(\"relu\"))\n",
        "model.add(MaxPooling2D())\n",
        "\n",
        "model.add(Conv2D(32,(3,3)))\n",
        "model.add(Activation(\"relu\"))\n",
        "model.add(MaxPooling2D())\n",
        "\n",
        "model.add(Conv2D(64,(3,3)))\n",
        "model.add(Activation(\"relu\"))\n",
        "model.add(MaxPooling2D())\n",
        "\n",
        "model.add(Flatten())\n",
        "model.add(Dense(1024))\n",
        "model.add(Activation(\"relu\"))\n",
        "model.add(Dropout(0.5))\n",
        "model.add(Dense(numberOfClass)) # output\n",
        "model.add(Activation(\"softmax\"))"
      ],
      "metadata": {
        "execution": {
          "iopub.status.busy": "2024-02-10T08:57:16.21072Z",
          "iopub.execute_input": "2024-02-10T08:57:16.211187Z",
          "iopub.status.idle": "2024-02-10T08:57:16.44779Z",
          "shell.execute_reply.started": "2024-02-10T08:57:16.211151Z",
          "shell.execute_reply": "2024-02-10T08:57:16.446967Z"
        },
        "trusted": true,
        "id": "hasO-TMBgFnc"
      },
      "execution_count": null,
      "outputs": []
    },
    {
      "cell_type": "markdown",
      "source": [
        "<a id = \"4\" ></a>\n",
        "<ul>\n",
        "    <li style = 'color:darkred;font-size:16px'> <p style = 'font-weight:bold'> 🍒 Compile Model </p> </li>\n",
        "</ul>"
      ],
      "metadata": {
        "id": "n-4-3q19gFnc"
      }
    },
    {
      "cell_type": "code",
      "source": [
        "model.compile(loss = \"categorical_crossentropy\",\n",
        "              optimizer = \"rmsprop\",\n",
        "              metrics = [\"accuracy\"])"
      ],
      "metadata": {
        "execution": {
          "iopub.status.busy": "2024-02-10T08:57:24.479878Z",
          "iopub.execute_input": "2024-02-10T08:57:24.480664Z",
          "iopub.status.idle": "2024-02-10T08:57:24.49807Z",
          "shell.execute_reply.started": "2024-02-10T08:57:24.480619Z",
          "shell.execute_reply": "2024-02-10T08:57:24.497137Z"
        },
        "trusted": true,
        "id": "sDStf0kKgFnd"
      },
      "execution_count": null,
      "outputs": []
    },
    {
      "cell_type": "markdown",
      "source": [
        "<a id = \"5\" ></a>\n",
        "<ul>\n",
        "    <li style = 'color:green;font-size:16px'> <p style = 'font-weight:bold'> 🍐 Epochs and Batch Size  </p> </li>\n",
        "</ul>"
      ],
      "metadata": {
        "id": "NO3ozVFDgFnd"
      }
    },
    {
      "cell_type": "code",
      "source": [
        "epochs = 2\n",
        "batch_size = 32"
      ],
      "metadata": {
        "execution": {
          "iopub.status.busy": "2024-02-10T08:57:32.009677Z",
          "iopub.execute_input": "2024-02-10T08:57:32.010407Z",
          "iopub.status.idle": "2024-02-10T08:57:32.014836Z",
          "shell.execute_reply.started": "2024-02-10T08:57:32.010365Z",
          "shell.execute_reply": "2024-02-10T08:57:32.013996Z"
        },
        "trusted": true,
        "id": "N-_u2i4FgFnd"
      },
      "execution_count": null,
      "outputs": []
    },
    {
      "cell_type": "markdown",
      "source": [
        "<a id = \"6\" ></a>\n",
        "<ul>\n",
        "    <li style = 'color:red;font-size:16px'> <p style = 'font-weight:bold'> 🍅 Data Augmentation  </p> </li>\n",
        "</ul>"
      ],
      "metadata": {
        "id": "d14PYls2gFne"
      }
    },
    {
      "cell_type": "code",
      "source": [
        "print(\"Target Size --> \", array_image.shape[:2])"
      ],
      "metadata": {
        "execution": {
          "iopub.status.busy": "2024-02-10T08:57:33.645386Z",
          "iopub.execute_input": "2024-02-10T08:57:33.646292Z",
          "iopub.status.idle": "2024-02-10T08:57:33.652603Z",
          "shell.execute_reply.started": "2024-02-10T08:57:33.646239Z",
          "shell.execute_reply": "2024-02-10T08:57:33.651508Z"
        },
        "trusted": true,
        "id": "VnsfS80ggFne"
      },
      "execution_count": null,
      "outputs": []
    },
    {
      "cell_type": "code",
      "source": [
        "train_datagen = ImageDataGenerator(rescale= 1./255,\n",
        "                   shear_range = 0.3,\n",
        "                   horizontal_flip=True,\n",
        "                   zoom_range = 0.3)\n",
        "\n",
        "test_datagen = ImageDataGenerator(rescale= 1./255)"
      ],
      "metadata": {
        "execution": {
          "iopub.status.busy": "2024-02-10T08:57:47.298362Z",
          "iopub.execute_input": "2024-02-10T08:57:47.299041Z",
          "iopub.status.idle": "2024-02-10T08:57:47.305234Z",
          "shell.execute_reply.started": "2024-02-10T08:57:47.299004Z",
          "shell.execute_reply": "2024-02-10T08:57:47.303749Z"
        },
        "trusted": true,
        "id": "aX45DQblgFne"
      },
      "execution_count": null,
      "outputs": []
    },
    {
      "cell_type": "code",
      "source": [
        "train_generator = train_datagen.flow_from_directory(\n",
        "        train_dir,\n",
        "        target_size= array_image.shape[:2],\n",
        "        batch_size = batch_size,\n",
        "        color_mode= \"rgb\",\n",
        "        class_mode= \"categorical\")"
      ],
      "metadata": {
        "execution": {
          "iopub.status.busy": "2024-02-10T08:58:08.472074Z",
          "iopub.execute_input": "2024-02-10T08:58:08.472546Z",
          "iopub.status.idle": "2024-02-10T08:58:11.736005Z",
          "shell.execute_reply.started": "2024-02-10T08:58:08.47251Z",
          "shell.execute_reply": "2024-02-10T08:58:11.733952Z"
        },
        "trusted": true,
        "id": "Tbr58FQVgFnf"
      },
      "execution_count": null,
      "outputs": []
    },
    {
      "cell_type": "code",
      "source": [
        "test_generator = test_datagen.flow_from_directory(\n",
        "        test_dir,\n",
        "        target_size= array_image.shape[:2],\n",
        "        batch_size = batch_size,\n",
        "        color_mode= \"rgb\",\n",
        "        class_mode= \"categorical\")"
      ],
      "metadata": {
        "execution": {
          "iopub.status.busy": "2024-02-10T08:58:11.737618Z",
          "iopub.execute_input": "2024-02-10T08:58:11.737958Z",
          "iopub.status.idle": "2024-02-10T08:58:14.959642Z",
          "shell.execute_reply.started": "2024-02-10T08:58:11.737926Z",
          "shell.execute_reply": "2024-02-10T08:58:14.958129Z"
        },
        "trusted": true,
        "id": "BmWUhV5-gFnf"
      },
      "execution_count": null,
      "outputs": []
    },
    {
      "cell_type": "code",
      "source": [
        "for data_batch, labels_batch in train_generator:\n",
        "    print(\"data_batch shape --> \",data_batch.shape)\n",
        "    print(\"labels_batch shape --> \",labels_batch.shape)\n",
        "    break"
      ],
      "metadata": {
        "execution": {
          "iopub.status.busy": "2024-02-10T08:58:14.961968Z",
          "iopub.execute_input": "2024-02-10T08:58:14.962468Z",
          "iopub.status.idle": "2024-02-10T08:58:15.401038Z",
          "shell.execute_reply.started": "2024-02-10T08:58:14.962418Z",
          "shell.execute_reply": "2024-02-10T08:58:15.399742Z"
        },
        "trusted": true,
        "id": "bkI5cpPAgFnf"
      },
      "execution_count": null,
      "outputs": []
    },
    {
      "cell_type": "markdown",
      "source": [
        "<a id = \"7\" ></a>\n",
        "<ul>\n",
        "    <li style = 'color:yellow;font-size:16px'> <p style = 'font-weight:bold'> 🍏 Fit the model  </p> </li>\n",
        "</ul>"
      ],
      "metadata": {
        "id": "Kj_M02PygFng"
      }
    },
    {
      "cell_type": "code",
      "source": [
        "hist = model.fit_generator(\n",
        "        generator = train_generator,\n",
        "        steps_per_epoch = 1600 // batch_size,\n",
        "        epochs=epochs,\n",
        "        validation_data = test_generator,\n",
        "        validation_steps = 800 // batch_size)"
      ],
      "metadata": {
        "_kg_hide-output": true,
        "execution": {
          "iopub.status.busy": "2024-02-10T08:58:27.040842Z",
          "iopub.execute_input": "2024-02-10T08:58:27.041291Z",
          "iopub.status.idle": "2024-02-10T08:59:29.144655Z",
          "shell.execute_reply.started": "2024-02-10T08:58:27.041255Z",
          "shell.execute_reply": "2024-02-10T08:59:29.143366Z"
        },
        "trusted": true,
        "id": "6IuRhHSogFng"
      },
      "execution_count": null,
      "outputs": []
    },
    {
      "cell_type": "markdown",
      "source": [
        "<a id = \"8\" ></a>\n",
        "<h2 style = \"background-image:url('https://t1.pixers.pics/img-1fb6f67c/posterler-sari-meyveler-desen.jpg?H4sIAAAAAAAAA3VOW46DMAy8TpAAG0xi4AD97REQj9DNlkeUpLvVnn4TVf2s7JHtke0ZeBx-XDXM-gjawW6WZdOwmi1Ovnfamz8tpKxzzPrIbgIxduePdrM7rSgk5QkKOSHrf8d4uI_uLr5CsL4H8FRa84zfYpk9zLuHGisGZJCdopY6wkXxMtiteC0GM98LhU-JpT1uOabI3l4axLxJHoIzu4imzigXxLe9ZfBB8tVDvILLFagDblNKlajhcqWOW26lGpaVxknh1GhmqoiRkNdubLWeqqZe6zKq_ANn9tv0MQEAAA==');background-position: center;text-shadow: 12px 10px 4px #333;color:black;border:0;font-family:Palatino Linotype;font-weight:bold;font-size:25px;text-indent:10px\">Evaluate the model</h2>"
      ],
      "metadata": {
        "id": "ynpKlSj5gFnn"
      }
    },
    {
      "cell_type": "code",
      "source": [
        "hist.history.keys()"
      ],
      "metadata": {
        "execution": {
          "iopub.status.busy": "2024-02-10T08:59:33.854679Z",
          "iopub.execute_input": "2024-02-10T08:59:33.855394Z",
          "iopub.status.idle": "2024-02-10T08:59:33.861933Z",
          "shell.execute_reply.started": "2024-02-10T08:59:33.855345Z",
          "shell.execute_reply": "2024-02-10T08:59:33.8606Z"
        },
        "trusted": true,
        "id": "mUvJd9cngFnn"
      },
      "execution_count": null,
      "outputs": []
    },
    {
      "cell_type": "markdown",
      "source": [
        "<a id = \"9\" ></a>\n",
        "<ul>\n",
        "    <li style = 'color:brown;font-size:16px'> <p style = 'font-weight:bold'> 🌰 Loss Chart  </p> </li>\n",
        "</ul>"
      ],
      "metadata": {
        "id": "rGYFKoI5gFno"
      }
    },
    {
      "cell_type": "code",
      "source": [
        "plt.figure()\n",
        "plt.plot(hist.history[\"loss\"],label = \"Train Loss\", color = \"black\")\n",
        "plt.plot(hist.history[\"val_loss\"],label = \"Validation Loss\", color = \"darkred\", linestyle=\"dashed\",markeredgecolor = \"purple\", markeredgewidth = 2)\n",
        "plt.title(\"Model Loss\", color = \"darkred\", size = 13)\n",
        "plt.legend()\n",
        "plt.show()"
      ],
      "metadata": {
        "execution": {
          "iopub.status.busy": "2024-02-10T08:59:36.860954Z",
          "iopub.execute_input": "2024-02-10T08:59:36.861368Z",
          "iopub.status.idle": "2024-02-10T08:59:37.070793Z",
          "shell.execute_reply.started": "2024-02-10T08:59:36.861334Z",
          "shell.execute_reply": "2024-02-10T08:59:37.069893Z"
        },
        "trusted": true,
        "id": "u0Ow6h_wgFno"
      },
      "execution_count": null,
      "outputs": []
    },
    {
      "cell_type": "markdown",
      "source": [
        "<a id = \"10\" ></a>\n",
        "<ul>\n",
        "    <li style = 'color:gray;font-size:16px'> <p style = 'font-weight:bold'> 🍈 Accuracy Chart  </p> </li>\n",
        "</ul>"
      ],
      "metadata": {
        "id": "sWQHS8tggFnp"
      }
    },
    {
      "cell_type": "code",
      "source": [
        "plt.figure()\n",
        "plt.plot(hist.history[\"accuracy\"],label = \"Train Accuracy\", color = \"black\")\n",
        "plt.plot(hist.history[\"val_accuracy\"],label = \"Validation Accuracy\", color = \"darkred\", linestyle=\"dashed\",markeredgecolor = \"purple\", markeredgewidth = 2)\n",
        "plt.title(\"Model Accuracy\", color = \"darkred\", size = 13)\n",
        "plt.legend()\n",
        "plt.show()"
      ],
      "metadata": {
        "execution": {
          "iopub.status.busy": "2024-02-10T08:59:47.653523Z",
          "iopub.execute_input": "2024-02-10T08:59:47.654145Z",
          "iopub.status.idle": "2024-02-10T08:59:47.872302Z",
          "shell.execute_reply.started": "2024-02-10T08:59:47.654101Z",
          "shell.execute_reply": "2024-02-10T08:59:47.871147Z"
        },
        "trusted": true,
        "id": "-6gAVd4xgFnp"
      },
      "execution_count": null,
      "outputs": []
    },
    {
      "cell_type": "markdown",
      "source": [
        "<a id ='11' ></a>\n",
        "<h4 style = \"background:#0C0C0C ;color:white;border:0;font-family:Bahnschrift SemiBold;font-weight:bold\"> CONCLUSION</h4>\n",
        "\n",
        "<p style = \"color:darkred;font-family:Bahnschrift SemiBold;font-weight:bold\" > I am waiting for them if you have any questions or suggestions. </p>\n",
        "\n",
        "<p style = \"color:black;font-family:Bahnschrift SemiBold;font-weight:bold\" >  Seaborn Tutorial -->  \n",
        "    <a href = \"https://www.kaggle.com/rafetcan/visualization-tutorial-with-seaborn\" >https://www.kaggle.com/rafetcan/visualization-tutorial-with-seaborn</a>\n",
        "</p>\n",
        "<p style = \"color:black;font-family:Bahnschrift SemiBold;font-weight:bold\" >  Plotly Tutorial -->  \n",
        "    <a href = \"https://www.kaggle.com/rafetcan/plotly-tutorial-for-beginners\" >https://www.kaggle.com/rafetcan/plotly-tutorial-for-beginners</a>\n",
        "    </p>\n",
        "<p style = \"color:black;font-family:Bahnschrift SemiBold;font-weight:bold\" >      Convolutional Neural Network (CNN) Tutorial -->  \n",
        "    <a href = \"https://www.kaggle.com/rafetcan/convolutional-neural-network-cnn-tutorial\" >https://www.kaggle.com/rafetcan/convolutional-neural-network-cnn-tutorial</a>\n",
        "</p>"
      ],
      "metadata": {
        "id": "UVqqzWFKgFnq"
      }
    }
  ]
}